{
 "cells": [
  {
   "cell_type": "markdown",
   "metadata": {},
   "source": [
    "# 01 - Initial Setup"
   ]
  },
  {
   "cell_type": "code",
   "execution_count": 2,
   "metadata": {},
   "outputs": [
    {
     "name": "stdout",
     "output_type": "stream",
     "text": [
      "The autoreload extension is already loaded. To reload it, use:\n",
      "  %reload_ext autoreload\n",
      "The dotenv extension is already loaded. To reload it, use:\n",
      "  %reload_ext dotenv\n"
     ]
    }
   ],
   "source": [
    "# Load necessary extensions\n",
    "%load_ext autoreload\n",
    "%autoreload 2\n",
    "%load_ext dotenv\n",
    "%dotenv\n",
    "\n",
    "# Standard library imports\n",
    "import os\n",
    "import sagemaker\n",
    "from sagemaker.workflow.pipeline_context import PipelineSession, LocalPipelineSession\n",
    "import boto3\n",
    "import sys\n",
    "import logging\n",
    "from pathlib import Path\n",
    "\n",
    "# Third-party library imports\n",
    "import ipytest\n",
    "import json\n",
    "\n",
    "# Configure logging to avoid output clutter from specific libraries\n",
    "logging.getLogger(\"sagemaker.config\").setLevel(logging.ERROR)\n",
    "\n",
    "# IPyTest configuration for running tests in Jupyter notebooks\n",
    "ipytest.autoconfig(raise_on_error=True)\n",
    "\n",
    "# Setting up paths for code and data\n",
    "CODE_FOLDER = Path(\"../src\").resolve()\n",
    "CODE_FOLDER.mkdir(parents=True, exist_ok=True)\n",
    "\n",
    "INFERENCE_CODE_FOLDER = (CODE_FOLDER / \"inference\").resolve()\n",
    "INFERENCE_CODE_FOLDER.mkdir(parents=True, exist_ok=True)\n",
    "\n",
    "# Creating an empty __init__.py file in the code folder to allow importing modules\n",
    "init_file_path = CODE_FOLDER / \"__init__.py\"\n",
    "if not init_file_path.exists():\n",
    "    init_file_path.touch()\n",
    "\n",
    "# Adding custom folders to the system path for easy import\n",
    "sys.path.extend([str(CODE_FOLDER), str(INFERENCE_CODE_FOLDER)])\n",
    "\n",
    "# Data file path\n",
    "DATA_FILE_PATH = \"data/penguins.csv\""
   ]
  },
  {
   "cell_type": "code",
   "execution_count": 3,
   "metadata": {},
   "outputs": [
    {
     "name": "stdout",
     "output_type": "stream",
     "text": [
      "Writing /Users/carlos/Projects/palmer-penguins-classification/src/paths.py\n"
     ]
    }
   ],
   "source": [
    "%%writefile {CODE_FOLDER}/paths.py\n",
    "\n",
    "# Path: src/paths.py\n",
    "# --- Imports ---\n",
    "import os\n",
    "from pathlib import Path\n",
    "\n",
    "# --- Constants ---\n",
    "PARENT_DIR = Path(__file__).parent.resolve().parent\n",
    "DATA_DIR = PARENT_DIR / \"data\"\n",
    "CODE_FOLDER = PARENT_DIR / \"src\"\n",
    "INFERENCE_CODE_FOLDER = CODE_FOLDER / \"inference\"\n"
   ]
  },
  {
   "cell_type": "code",
   "execution_count": null,
   "metadata": {},
   "outputs": [],
   "source": []
  },
  {
   "cell_type": "code",
   "execution_count": null,
   "metadata": {},
   "outputs": [],
   "source": [
    "LOCAL_MODE = True\n",
    "\n",
    "bucket = os.getenv(\"BUCKET\")\n",
    "role = os.getenv(\"ROLE\")\n",
    "\n",
    "S3_LOCATION = f\"s3://{bucket}/penguins\""
   ]
  },
  {
   "cell_type": "code",
   "execution_count": null,
   "metadata": {},
   "outputs": [],
   "source": [
    "pipeline_session = PipelineSession(default_bucket=bucket) if not LOCAL_MODE else None\n",
    "\n",
    "if LOCAL_MODE:\n",
    "    config = {\n",
    "        \"session\": LocalPipelineSession(default_bucket=bucket),\n",
    "        \"instance_type\": \"local\",\n",
    "    }\n",
    "else:\n",
    "    config = {\"session\": pipeline_session, \"instance_type\": \"ml.m5.xlarge\"}\n",
    "\n",
    "config[\"framework_version\"] = \"2.11\"\n",
    "config[\"py_version\"] = \"py39\""
   ]
  },
  {
   "cell_type": "code",
   "execution_count": null,
   "metadata": {},
   "outputs": [],
   "source": [
    "sagemaker_session = sagemaker.session.Session()\n",
    "sagemaker_client = boto3.client(\"sagemaker\")\n",
    "iam_client = boto3.client(\"iam\")\n",
    "region = boto3.Session().region_name"
   ]
  },
  {
   "cell_type": "markdown",
   "metadata": {},
   "source": [
    "## Exploratory Data Analysis"
   ]
  },
  {
   "cell_type": "markdown",
   "metadata": {},
   "source": [
    "### Sobre os Dados\n",
    "\n",
    "[Os dados foram coletados e disponibilizados pela Dra. Kristen Gorman e pela Estação Palmer](https://allisonhorst.github.io/palmerpenguins/articles/intro.html), Antártica LTER, integrante da Rede de Pesquisa Ecológica de Longo Prazo, oferecendo uma oportunidade única de entender melhor a ecologia dos pinguins na região da Antártica, proporcionada pela dedicação e expertise da Dra. Gorman e do trabalho contínuo da Estação Palmer."
   ]
  },
  {
   "cell_type": "code",
   "execution_count": null,
   "metadata": {},
   "outputs": [],
   "source": [
    "import pandas as pd\n",
    "\n",
    "df = pd.read_csv(DATA_FILE_PATH)\n",
    "df.head()"
   ]
  },
  {
   "cell_type": "code",
   "execution_count": null,
   "metadata": {},
   "outputs": [],
   "source": []
  }
 ],
 "metadata": {
  "kernelspec": {
   "display_name": ".venv",
   "language": "python",
   "name": "python3"
  },
  "language_info": {
   "codemirror_mode": {
    "name": "ipython",
    "version": 3
   },
   "file_extension": ".py",
   "mimetype": "text/x-python",
   "name": "python",
   "nbconvert_exporter": "python",
   "pygments_lexer": "ipython3",
   "version": "3.11.3"
  }
 },
 "nbformat": 4,
 "nbformat_minor": 2
}
